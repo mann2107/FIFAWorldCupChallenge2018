{
 "cells": [
  {
   "cell_type": "code",
   "execution_count": 1841,
   "metadata": {
    "collapsed": true
   },
   "outputs": [],
   "source": [
    "import pandas as pd"
   ]
  },
  {
   "cell_type": "code",
   "execution_count": 1842,
   "metadata": {
    "collapsed": true
   },
   "outputs": [],
   "source": [
    "dfGroup1950 = pd.read_csv('group_matches_1950.csv')"
   ]
  },
  {
   "cell_type": "code",
   "execution_count": 1843,
   "metadata": {
    "collapsed": true
   },
   "outputs": [],
   "source": [
    "dfFinal1950 = pd.read_csv('final_matches_1950.csv')"
   ]
  },
  {
   "cell_type": "code",
   "execution_count": 1844,
   "metadata": {
    "collapsed": true
   },
   "outputs": [],
   "source": [
    "dfGroup1954 = pd.read_csv('group_matches_1954.csv')"
   ]
  },
  {
   "cell_type": "code",
   "execution_count": 1845,
   "metadata": {
    "collapsed": true
   },
   "outputs": [],
   "source": [
    "dfFinal1954 = pd.read_csv('final_matches_1954.csv')"
   ]
  },
  {
   "cell_type": "code",
   "execution_count": 1846,
   "metadata": {
    "collapsed": true
   },
   "outputs": [],
   "source": [
    "dfGroup1958 = pd.read_csv('group_matches_1958.csv')"
   ]
  },
  {
   "cell_type": "code",
   "execution_count": 1847,
   "metadata": {
    "collapsed": true
   },
   "outputs": [],
   "source": [
    "dfFinal1958 = pd.read_csv('final_matches_1958.csv')"
   ]
  },
  {
   "cell_type": "code",
   "execution_count": 1848,
   "metadata": {
    "collapsed": true
   },
   "outputs": [],
   "source": [
    "dfGroup1962 = pd.read_csv('group_matches_1962.csv')"
   ]
  },
  {
   "cell_type": "code",
   "execution_count": 1849,
   "metadata": {
    "collapsed": true
   },
   "outputs": [],
   "source": [
    "dfFinal1962 = pd.read_csv('final_matches_1962.csv')"
   ]
  },
  {
   "cell_type": "code",
   "execution_count": 1850,
   "metadata": {
    "collapsed": true
   },
   "outputs": [],
   "source": [
    "dfGroup1966 = pd.read_csv('group_matches_1966.csv')"
   ]
  },
  {
   "cell_type": "code",
   "execution_count": 1851,
   "metadata": {
    "collapsed": true
   },
   "outputs": [],
   "source": [
    "dfFinal1966 = pd.read_csv('final_matches_1966.csv')"
   ]
  },
  {
   "cell_type": "code",
   "execution_count": 1852,
   "metadata": {
    "collapsed": true
   },
   "outputs": [],
   "source": [
    "dfGroup1970 = pd.read_csv('group_matches_1970.csv')"
   ]
  },
  {
   "cell_type": "code",
   "execution_count": 1853,
   "metadata": {
    "collapsed": true
   },
   "outputs": [],
   "source": [
    "dfFinal1970 = pd.read_csv('final_matches_1970.csv')"
   ]
  },
  {
   "cell_type": "code",
   "execution_count": 1854,
   "metadata": {
    "collapsed": true
   },
   "outputs": [],
   "source": [
    "dfGroup1974 = pd.read_csv('group_matches_1974.csv')"
   ]
  },
  {
   "cell_type": "code",
   "execution_count": 1855,
   "metadata": {
    "collapsed": true
   },
   "outputs": [],
   "source": [
    "dfFinal1974 = pd.read_csv('final_matches_1974.csv')"
   ]
  },
  {
   "cell_type": "code",
   "execution_count": 1856,
   "metadata": {
    "collapsed": true
   },
   "outputs": [],
   "source": [
    "dfGroup1978 = pd.read_csv('group_matches_1978.csv')"
   ]
  },
  {
   "cell_type": "code",
   "execution_count": 1857,
   "metadata": {
    "collapsed": true
   },
   "outputs": [],
   "source": [
    "dfFinal1978 = pd.read_csv('final_matches_1978.csv')"
   ]
  },
  {
   "cell_type": "code",
   "execution_count": 1858,
   "metadata": {
    "collapsed": true
   },
   "outputs": [],
   "source": [
    "dfGroup1982 = pd.read_csv('group_matches_1982.csv')"
   ]
  },
  {
   "cell_type": "code",
   "execution_count": 1859,
   "metadata": {
    "collapsed": true
   },
   "outputs": [],
   "source": [
    "dfFinal1982 = pd.read_csv('final_matches_1982.csv')"
   ]
  },
  {
   "cell_type": "code",
   "execution_count": 1860,
   "metadata": {
    "collapsed": true
   },
   "outputs": [],
   "source": [
    "dfGroup1986 = pd.read_csv('group_matches_1986.csv')"
   ]
  },
  {
   "cell_type": "code",
   "execution_count": 1861,
   "metadata": {
    "collapsed": true
   },
   "outputs": [],
   "source": [
    "dfFinal1986 = pd.read_csv('final_matches_1986.csv')"
   ]
  },
  {
   "cell_type": "code",
   "execution_count": 1862,
   "metadata": {
    "collapsed": true
   },
   "outputs": [],
   "source": [
    "dfGroup1990 = pd.read_csv('group_matches_1990.csv')"
   ]
  },
  {
   "cell_type": "code",
   "execution_count": 1863,
   "metadata": {
    "collapsed": true
   },
   "outputs": [],
   "source": [
    "dfFinal1990 = pd.read_csv('final_matches_1990.csv')"
   ]
  },
  {
   "cell_type": "code",
   "execution_count": 1864,
   "metadata": {
    "collapsed": true
   },
   "outputs": [],
   "source": [
    "dfGroup1994 = pd.read_csv('group_matches_1994.csv')"
   ]
  },
  {
   "cell_type": "code",
   "execution_count": 1865,
   "metadata": {
    "collapsed": true
   },
   "outputs": [],
   "source": [
    "dfFinal1994 = pd.read_csv('final_matches_1994.csv')"
   ]
  },
  {
   "cell_type": "code",
   "execution_count": 1866,
   "metadata": {
    "collapsed": true
   },
   "outputs": [],
   "source": [
    "dfGroup1998 = pd.read_csv('group_matches_1998.csv')"
   ]
  },
  {
   "cell_type": "code",
   "execution_count": 1867,
   "metadata": {
    "collapsed": true
   },
   "outputs": [],
   "source": [
    "dfFinal1998 = pd.read_csv('final_matches_1998.csv')"
   ]
  },
  {
   "cell_type": "code",
   "execution_count": 1868,
   "metadata": {
    "collapsed": true
   },
   "outputs": [],
   "source": [
    "dfGroup2002 = pd.read_csv('group_matches_2002.csv')"
   ]
  },
  {
   "cell_type": "code",
   "execution_count": 1869,
   "metadata": {
    "collapsed": true
   },
   "outputs": [],
   "source": [
    "dfFinal2002 = pd.read_csv('final_matches_2002.csv')"
   ]
  },
  {
   "cell_type": "code",
   "execution_count": 1870,
   "metadata": {
    "collapsed": true
   },
   "outputs": [],
   "source": [
    "dfGroup2006 = pd.read_csv('group_matches_2006.csv')"
   ]
  },
  {
   "cell_type": "code",
   "execution_count": 1871,
   "metadata": {
    "collapsed": true
   },
   "outputs": [],
   "source": [
    "dfFinal2006 = pd.read_csv('final_matches_2006.csv')"
   ]
  },
  {
   "cell_type": "code",
   "execution_count": 1872,
   "metadata": {
    "collapsed": true
   },
   "outputs": [],
   "source": [
    "dfGroup2010 = pd.read_csv('group_matches_2010.csv')"
   ]
  },
  {
   "cell_type": "code",
   "execution_count": 1873,
   "metadata": {
    "collapsed": true
   },
   "outputs": [],
   "source": [
    "dfFinal2010 = pd.read_csv('final_matches_2010.csv')"
   ]
  },
  {
   "cell_type": "code",
   "execution_count": 1874,
   "metadata": {
    "collapsed": true
   },
   "outputs": [],
   "source": [
    "dfGroup2014 = pd.read_csv('group_matches_2014.csv')"
   ]
  },
  {
   "cell_type": "code",
   "execution_count": 1875,
   "metadata": {
    "collapsed": true
   },
   "outputs": [],
   "source": [
    "dfFinal2014 = pd.read_csv('final_matches_2014.csv')"
   ]
  },
  {
   "cell_type": "code",
   "execution_count": 1876,
   "metadata": {
    "collapsed": true
   },
   "outputs": [],
   "source": [
    "#Add Year to each dataframes\n",
    "dfGroup1950['year'] =1950\n",
    "dfGroup1954['year'] =1954\n",
    "dfGroup1958['year'] =1958\n",
    "dfGroup1962['year'] =1962\n",
    "dfGroup1966['year'] =1966\n",
    "dfGroup1970['year'] =1970\n",
    "dfGroup1974['year'] =1974\n",
    "dfGroup1978['year'] =1978\n",
    "dfGroup1982['year'] =1982\n",
    "dfGroup1986['year'] =1986\n",
    "dfGroup1990['year'] =1990\n",
    "dfGroup1994['year'] =1994\n",
    "dfGroup1998['year'] =1998\n",
    "dfGroup2002['year'] =2002\n",
    "dfGroup2006['year'] =2006\n",
    "dfGroup2010['year'] =2010\n",
    "dfGroup2014['year'] =2014\n",
    "\n",
    "\n",
    "\n",
    "dfFinal1950['year'] =1950\n",
    "dfFinal1954['year'] =1954\n",
    "dfFinal1958['year'] =1958\n",
    "dfFinal1962['year'] =1962\n",
    "dfFinal1966['year'] =1966\n",
    "dfFinal1970['year'] =1970\n",
    "dfFinal1974['year'] =1974\n",
    "dfFinal1978['year'] =1978\n",
    "dfFinal1982['year'] =1982\n",
    "dfFinal1986['year'] =1986\n",
    "dfFinal1990['year'] =1990\n",
    "dfFinal1994['year'] =1994\n",
    "dfFinal1998['year'] =1998\n",
    "dfFinal2002['year'] =2002\n",
    "dfFinal2006['year'] =2006\n",
    "dfFinal2010['year'] =2010\n",
    "dfFinal2014['year'] =2014\n"
   ]
  },
  {
   "cell_type": "code",
   "execution_count": 1877,
   "metadata": {
    "collapsed": true
   },
   "outputs": [],
   "source": [
    "#Concatenate each dataframe into one\n",
    "dfList = [dfFinal1950, dfGroup1950,\n",
    "dfFinal1954, dfGroup1954,\n",
    "dfFinal1958, dfGroup1958,\n",
    "dfFinal1962, dfGroup1962,\n",
    "dfFinal1966, dfGroup1966,\n",
    "dfFinal1970, dfGroup1970,\n",
    "dfFinal1974, dfGroup1974,\n",
    "dfFinal1978, dfGroup1978,\n",
    "dfFinal1982, dfGroup1982,\n",
    "dfFinal1986, dfGroup1986,\n",
    "dfFinal1990, dfGroup1990,\n",
    "dfFinal1994, dfGroup1994,\n",
    "dfFinal1998, dfGroup1998,\n",
    "dfFinal2002, dfGroup2002,\n",
    "dfFinal2006, dfGroup2006,\n",
    "dfFinal2010, dfGroup2010,\n",
    "dfFinal2014, dfGroup2014]"
   ]
  },
  {
   "cell_type": "code",
   "execution_count": 1878,
   "metadata": {
    "collapsed": true
   },
   "outputs": [],
   "source": [
    "# Combine all DataFrames\n",
    "fullDF = pd.concat(dfList)"
   ]
  },
  {
   "cell_type": "code",
   "execution_count": null,
   "metadata": {},
   "outputs": [],
   "source": [
    "\n"
   ]
  },
  {
   "cell_type": "code",
   "execution_count": 1879,
   "metadata": {
    "collapsed": true
   },
   "outputs": [],
   "source": [
    "fullDF.reset_index(inplace=True, drop=True)"
   ]
  },
  {
   "cell_type": "markdown",
   "metadata": {
    "collapsed": true
   },
   "source": [
    "# Drop irrelevant columns ['away_scorers','date','home_scorers','match_num','round/group','group', 'stadium', 'where']\n",
    "# 'away_scorers', 'home_scorers' are players that might not be playing in 2018\n",
    "# 'match_num', 'date','round/group','group' are also irrelevant\n"
   ]
  },
  {
   "cell_type": "code",
   "execution_count": 1880,
   "metadata": {
    "collapsed": true
   },
   "outputs": [],
   "source": [
    "fullDF.drop(labels=['away_scorers','date','home_scorers','match_num','round/group','group', 'stadium', 'where'], axis=1, inplace=True)"
   ]
  },
  {
   "cell_type": "code",
   "execution_count": 1881,
   "metadata": {},
   "outputs": [
    {
     "name": "stdout",
     "output_type": "stream",
     "text": [
      "<class 'pandas.core.frame.DataFrame'>\n",
      "RangeIndex: 783 entries, 0 to 782\n",
      "Data columns (total 11 columns):\n",
      "away                783 non-null object\n",
      "away_score          607 non-null float64\n",
      "extra_time_score    39 non-null object\n",
      "fulltime_score      144 non-null object\n",
      "half_time_score     59 non-null object\n",
      "home                783 non-null object\n",
      "home_score          607 non-null float64\n",
      "penalties           20 non-null object\n",
      "score               32 non-null object\n",
      "time                128 non-null object\n",
      "year                783 non-null int64\n",
      "dtypes: float64(2), int64(1), object(8)\n",
      "memory usage: 67.4+ KB\n"
     ]
    }
   ],
   "source": [
    "fullDF.info()"
   ]
  },
  {
   "cell_type": "markdown",
   "metadata": {
    "collapsed": true
   },
   "source": [
    "# lets keep only final 16 teams and remove rest\n"
   ]
  },
  {
   "cell_type": "code",
   "execution_count": 1882,
   "metadata": {
    "collapsed": true
   },
   "outputs": [],
   "source": [
    "finalTeams = ['Spain','Argentina', 'France','Uruguay',\n",
    "              'Portugal', 'Russia', 'Croatia', 'Denmark',\n",
    "              'Japan', 'Belgium','Brazil', 'Mexico','Sweden','England','Switzerland','Colombia']"
   ]
  },
  {
   "cell_type": "code",
   "execution_count": 1883,
   "metadata": {},
   "outputs": [],
   "source": [
    "fullDF = fullDF[fullDF['away'].isin(finalTeams)]\n",
    "fullDF = fullDF[fullDF['home'].isin(finalTeams)]"
   ]
  },
  {
   "cell_type": "code",
   "execution_count": 1884,
   "metadata": {},
   "outputs": [
    {
     "name": "stdout",
     "output_type": "stream",
     "text": [
      "<class 'pandas.core.frame.DataFrame'>\n",
      "Int64Index: 128 entries, 0 to 779\n",
      "Data columns (total 11 columns):\n",
      "away                128 non-null object\n",
      "away_score          92 non-null float64\n",
      "extra_time_score    8 non-null object\n",
      "fulltime_score      30 non-null object\n",
      "half_time_score     9 non-null object\n",
      "home                128 non-null object\n",
      "home_score          92 non-null float64\n",
      "penalties           4 non-null object\n",
      "score               6 non-null object\n",
      "time                19 non-null object\n",
      "year                128 non-null int64\n",
      "dtypes: float64(2), int64(1), object(8)\n",
      "memory usage: 12.0+ KB\n"
     ]
    }
   ],
   "source": [
    "fullDF.info()"
   ]
  },
  {
   "cell_type": "markdown",
   "metadata": {
    "collapsed": true
   },
   "source": [
    "# From above info we can further remove\n",
    "# 1) extra_time_score - Only 8 not null values, we are interested in final score\n",
    "# 2) half_time_score - Only 9 not null values, we are interested in final score\n",
    "# 3) penalties - Only 4 not null values\n",
    "# 4) score - only 6 not null values, redundandt data\n",
    "# 5) time - only 19 not null values, also not a much deciding factor\n",
    "# 6) year - we are interested in team by team matches\n"
   ]
  },
  {
   "cell_type": "code",
   "execution_count": 1885,
   "metadata": {
    "collapsed": true
   },
   "outputs": [],
   "source": [
    "fullDF.drop(labels=['extra_time_score','half_time_score','penalties','score','time','year'], axis=1, inplace=True)"
   ]
  },
  {
   "cell_type": "markdown",
   "metadata": {},
   "source": [
    "# Lets check all the rows where fulltime_score is not-null so that we can distribute data from this column under away_score and home_score"
   ]
  },
  {
   "cell_type": "code",
   "execution_count": 1886,
   "metadata": {},
   "outputs": [
    {
     "data": {
      "text/plain": [
       "0"
      ]
     },
     "execution_count": 1886,
     "metadata": {},
     "output_type": "execute_result"
    }
   ],
   "source": [
    "\n",
    "fullDF.loc[(fullDF.fulltime_score.notnull()) & (fullDF.away_score.notnull()) & (fullDF.home_score.notnull())].size"
   ]
  },
  {
   "cell_type": "code",
   "execution_count": null,
   "metadata": {
    "collapsed": true
   },
   "outputs": [],
   "source": []
  },
  {
   "cell_type": "markdown",
   "metadata": {
    "collapsed": true
   },
   "source": [
    "# Here we can see there is no such rows where all the columns ['away_score','home_score','full_time_score'] is null\n",
    "# So we need to seperate out scores from fulltime_score into 'away_score' and 'home_score'\n"
   ]
  },
  {
   "cell_type": "code",
   "execution_count": 1887,
   "metadata": {
    "collapsed": true
   },
   "outputs": [],
   "source": [
    "withFullTimeScoreDF = fullDF.loc[fullDF.fulltime_score.notnull()]"
   ]
  },
  {
   "cell_type": "code",
   "execution_count": 1888,
   "metadata": {},
   "outputs": [
    {
     "data": {
      "text/html": [
       "<div>\n",
       "<style>\n",
       "    .dataframe thead tr:only-child th {\n",
       "        text-align: right;\n",
       "    }\n",
       "\n",
       "    .dataframe thead th {\n",
       "        text-align: left;\n",
       "    }\n",
       "\n",
       "    .dataframe tbody tr th {\n",
       "        vertical-align: top;\n",
       "    }\n",
       "</style>\n",
       "<table border=\"1\" class=\"dataframe\">\n",
       "  <thead>\n",
       "    <tr style=\"text-align: right;\">\n",
       "      <th></th>\n",
       "      <th>away</th>\n",
       "      <th>away_score</th>\n",
       "      <th>fulltime_score</th>\n",
       "      <th>home</th>\n",
       "      <th>home_score</th>\n",
       "    </tr>\n",
       "  </thead>\n",
       "  <tbody>\n",
       "    <tr>\n",
       "      <th>23</th>\n",
       "      <td>England</td>\n",
       "      <td>NaN</td>\n",
       "      <td>4-2</td>\n",
       "      <td>Uruguay</td>\n",
       "      <td>NaN</td>\n",
       "    </tr>\n",
       "    <tr>\n",
       "      <th>52</th>\n",
       "      <td>Brazil</td>\n",
       "      <td>NaN</td>\n",
       "      <td>2-5</td>\n",
       "      <td>France</td>\n",
       "      <td>NaN</td>\n",
       "    </tr>\n",
       "    <tr>\n",
       "      <th>55</th>\n",
       "      <td>Brazil</td>\n",
       "      <td>NaN</td>\n",
       "      <td>2-5</td>\n",
       "      <td>Sweden</td>\n",
       "      <td>NaN</td>\n",
       "    </tr>\n",
       "    <tr>\n",
       "      <th>85</th>\n",
       "      <td>England</td>\n",
       "      <td>NaN</td>\n",
       "      <td>3-1</td>\n",
       "      <td>Brazil</td>\n",
       "      <td>NaN</td>\n",
       "    </tr>\n",
       "    <tr>\n",
       "      <th>115</th>\n",
       "      <td>Argentina</td>\n",
       "      <td>NaN</td>\n",
       "      <td>1-0</td>\n",
       "      <td>England</td>\n",
       "      <td>NaN</td>\n",
       "    </tr>\n",
       "  </tbody>\n",
       "</table>\n",
       "</div>"
      ],
      "text/plain": [
       "          away  away_score fulltime_score     home  home_score\n",
       "23     England         NaN            4-2  Uruguay         NaN\n",
       "52      Brazil         NaN            2-5   France         NaN\n",
       "55      Brazil         NaN            2-5   Sweden         NaN\n",
       "85     England         NaN            3-1   Brazil         NaN\n",
       "115  Argentina         NaN            1-0  England         NaN"
      ]
     },
     "execution_count": 1888,
     "metadata": {},
     "output_type": "execute_result"
    }
   ],
   "source": [
    "withFullTimeScoreDF.head()"
   ]
  },
  {
   "cell_type": "code",
   "execution_count": 1889,
   "metadata": {},
   "outputs": [
    {
     "name": "stderr",
     "output_type": "stream",
     "text": [
      "/opt/anaconda/envs/py3/lib/python3.6/site-packages/ipykernel_launcher.py:2: SettingWithCopyWarning: \n",
      "A value is trying to be set on a copy of a slice from a DataFrame.\n",
      "Try using .loc[row_indexer,col_indexer] = value instead\n",
      "\n",
      "See the caveats in the documentation: http://pandas.pydata.org/pandas-docs/stable/indexing.html#indexing-view-versus-copy\n",
      "  \n"
     ]
    }
   ],
   "source": [
    "# We will populate away_score and home_score from fulltime_score\n",
    "withFullTimeScoreDF['home_score'], withFullTimeScoreDF['away_score'] = withFullTimeScoreDF['fulltime_score'].str.split('-').str"
   ]
  },
  {
   "cell_type": "code",
   "execution_count": 1890,
   "metadata": {
    "scrolled": true
   },
   "outputs": [
    {
     "data": {
      "text/html": [
       "<div>\n",
       "<style>\n",
       "    .dataframe thead tr:only-child th {\n",
       "        text-align: right;\n",
       "    }\n",
       "\n",
       "    .dataframe thead th {\n",
       "        text-align: left;\n",
       "    }\n",
       "\n",
       "    .dataframe tbody tr th {\n",
       "        vertical-align: top;\n",
       "    }\n",
       "</style>\n",
       "<table border=\"1\" class=\"dataframe\">\n",
       "  <thead>\n",
       "    <tr style=\"text-align: right;\">\n",
       "      <th></th>\n",
       "      <th>away</th>\n",
       "      <th>away_score</th>\n",
       "      <th>fulltime_score</th>\n",
       "      <th>home</th>\n",
       "      <th>home_score</th>\n",
       "    </tr>\n",
       "  </thead>\n",
       "  <tbody>\n",
       "    <tr>\n",
       "      <th>23</th>\n",
       "      <td>England</td>\n",
       "      <td>2</td>\n",
       "      <td>4-2</td>\n",
       "      <td>Uruguay</td>\n",
       "      <td>4</td>\n",
       "    </tr>\n",
       "    <tr>\n",
       "      <th>52</th>\n",
       "      <td>Brazil</td>\n",
       "      <td>5</td>\n",
       "      <td>2-5</td>\n",
       "      <td>France</td>\n",
       "      <td>2</td>\n",
       "    </tr>\n",
       "    <tr>\n",
       "      <th>55</th>\n",
       "      <td>Brazil</td>\n",
       "      <td>5</td>\n",
       "      <td>2-5</td>\n",
       "      <td>Sweden</td>\n",
       "      <td>2</td>\n",
       "    </tr>\n",
       "    <tr>\n",
       "      <th>85</th>\n",
       "      <td>England</td>\n",
       "      <td>1</td>\n",
       "      <td>3-1</td>\n",
       "      <td>Brazil</td>\n",
       "      <td>3</td>\n",
       "    </tr>\n",
       "    <tr>\n",
       "      <th>115</th>\n",
       "      <td>Argentina</td>\n",
       "      <td>0</td>\n",
       "      <td>1-0</td>\n",
       "      <td>England</td>\n",
       "      <td>1</td>\n",
       "    </tr>\n",
       "  </tbody>\n",
       "</table>\n",
       "</div>"
      ],
      "text/plain": [
       "          away away_score fulltime_score     home home_score\n",
       "23     England          2            4-2  Uruguay          4\n",
       "52      Brazil          5            2-5   France          2\n",
       "55      Brazil          5            2-5   Sweden          2\n",
       "85     England          1            3-1   Brazil          3\n",
       "115  Argentina          0            1-0  England          1"
      ]
     },
     "execution_count": 1890,
     "metadata": {},
     "output_type": "execute_result"
    }
   ],
   "source": [
    "withFullTimeScoreDF.head()"
   ]
  },
  {
   "cell_type": "markdown",
   "metadata": {
    "collapsed": true
   },
   "source": [
    "# Lets drop the fultime_score with value from fullDF and combbine it with the withFullTimeScoreDF so that we have total records of away_score and home score as not null\n"
   ]
  },
  {
   "cell_type": "code",
   "execution_count": 1891,
   "metadata": {},
   "outputs": [],
   "source": [
    "fullDF = fullDF.loc[~fullDF.fulltime_score.notnull()]"
   ]
  },
  {
   "cell_type": "markdown",
   "metadata": {},
   "source": [
    "# Lets further rows having away_score and home_score wit NaN"
   ]
  },
  {
   "cell_type": "code",
   "execution_count": 1892,
   "metadata": {
    "scrolled": false
   },
   "outputs": [],
   "source": [
    "\n",
    "fullDF = fullDF.loc[(fullDF.away_score.notnull()) ]"
   ]
  },
  {
   "cell_type": "code",
   "execution_count": 1893,
   "metadata": {},
   "outputs": [
    {
     "data": {
      "text/html": [
       "<div>\n",
       "<style>\n",
       "    .dataframe thead tr:only-child th {\n",
       "        text-align: right;\n",
       "    }\n",
       "\n",
       "    .dataframe thead th {\n",
       "        text-align: left;\n",
       "    }\n",
       "\n",
       "    .dataframe tbody tr th {\n",
       "        vertical-align: top;\n",
       "    }\n",
       "</style>\n",
       "<table border=\"1\" class=\"dataframe\">\n",
       "  <thead>\n",
       "    <tr style=\"text-align: right;\">\n",
       "      <th></th>\n",
       "      <th>away</th>\n",
       "      <th>away_score</th>\n",
       "      <th>fulltime_score</th>\n",
       "      <th>home</th>\n",
       "      <th>home_score</th>\n",
       "    </tr>\n",
       "  </thead>\n",
       "  <tbody>\n",
       "    <tr>\n",
       "      <th>0</th>\n",
       "      <td>Spain</td>\n",
       "      <td>2.0</td>\n",
       "      <td>NaN</td>\n",
       "      <td>Uruguay</td>\n",
       "      <td>2.0</td>\n",
       "    </tr>\n",
       "    <tr>\n",
       "      <th>1</th>\n",
       "      <td>Sweden</td>\n",
       "      <td>1.0</td>\n",
       "      <td>NaN</td>\n",
       "      <td>Brazil</td>\n",
       "      <td>7.0</td>\n",
       "    </tr>\n",
       "    <tr>\n",
       "      <th>2</th>\n",
       "      <td>Spain</td>\n",
       "      <td>1.0</td>\n",
       "      <td>NaN</td>\n",
       "      <td>Brazil</td>\n",
       "      <td>6.0</td>\n",
       "    </tr>\n",
       "    <tr>\n",
       "      <th>3</th>\n",
       "      <td>Sweden</td>\n",
       "      <td>2.0</td>\n",
       "      <td>NaN</td>\n",
       "      <td>Uruguay</td>\n",
       "      <td>3.0</td>\n",
       "    </tr>\n",
       "    <tr>\n",
       "      <th>4</th>\n",
       "      <td>Spain</td>\n",
       "      <td>1.0</td>\n",
       "      <td>NaN</td>\n",
       "      <td>Sweden</td>\n",
       "      <td>3.0</td>\n",
       "    </tr>\n",
       "  </tbody>\n",
       "</table>\n",
       "</div>"
      ],
      "text/plain": [
       "     away  away_score fulltime_score     home  home_score\n",
       "0   Spain         2.0            NaN  Uruguay         2.0\n",
       "1  Sweden         1.0            NaN   Brazil         7.0\n",
       "2   Spain         1.0            NaN   Brazil         6.0\n",
       "3  Sweden         2.0            NaN  Uruguay         3.0\n",
       "4   Spain         1.0            NaN   Sweden         3.0"
      ]
     },
     "execution_count": 1893,
     "metadata": {},
     "output_type": "execute_result"
    }
   ],
   "source": [
    "fullDF.head()"
   ]
  },
  {
   "cell_type": "markdown",
   "metadata": {},
   "source": [
    "# Now lets concatenate fullDF and withFullTimeScoreDF vertically"
   ]
  },
  {
   "cell_type": "code",
   "execution_count": 1894,
   "metadata": {},
   "outputs": [],
   "source": [
    "\n",
    "finalDF = pd.concat([fullDF, withFullTimeScoreDF], axis=0)"
   ]
  },
  {
   "cell_type": "markdown",
   "metadata": {},
   "source": [
    "# Lets drop the fulltime_score from finalDF\n"
   ]
  },
  {
   "cell_type": "code",
   "execution_count": 1895,
   "metadata": {},
   "outputs": [],
   "source": [
    "finalDF.drop(['fulltime_score'], axis=1, inplace=True)"
   ]
  },
  {
   "cell_type": "code",
   "execution_count": 1896,
   "metadata": {},
   "outputs": [
    {
     "data": {
      "text/html": [
       "<div>\n",
       "<style>\n",
       "    .dataframe thead tr:only-child th {\n",
       "        text-align: right;\n",
       "    }\n",
       "\n",
       "    .dataframe thead th {\n",
       "        text-align: left;\n",
       "    }\n",
       "\n",
       "    .dataframe tbody tr th {\n",
       "        vertical-align: top;\n",
       "    }\n",
       "</style>\n",
       "<table border=\"1\" class=\"dataframe\">\n",
       "  <thead>\n",
       "    <tr style=\"text-align: right;\">\n",
       "      <th></th>\n",
       "      <th>away</th>\n",
       "      <th>away_score</th>\n",
       "      <th>home</th>\n",
       "      <th>home_score</th>\n",
       "    </tr>\n",
       "  </thead>\n",
       "  <tbody>\n",
       "    <tr>\n",
       "      <th>0</th>\n",
       "      <td>Spain</td>\n",
       "      <td>2</td>\n",
       "      <td>Uruguay</td>\n",
       "      <td>2</td>\n",
       "    </tr>\n",
       "    <tr>\n",
       "      <th>1</th>\n",
       "      <td>Sweden</td>\n",
       "      <td>1</td>\n",
       "      <td>Brazil</td>\n",
       "      <td>7</td>\n",
       "    </tr>\n",
       "    <tr>\n",
       "      <th>2</th>\n",
       "      <td>Spain</td>\n",
       "      <td>1</td>\n",
       "      <td>Brazil</td>\n",
       "      <td>6</td>\n",
       "    </tr>\n",
       "    <tr>\n",
       "      <th>3</th>\n",
       "      <td>Sweden</td>\n",
       "      <td>2</td>\n",
       "      <td>Uruguay</td>\n",
       "      <td>3</td>\n",
       "    </tr>\n",
       "    <tr>\n",
       "      <th>4</th>\n",
       "      <td>Spain</td>\n",
       "      <td>1</td>\n",
       "      <td>Sweden</td>\n",
       "      <td>3</td>\n",
       "    </tr>\n",
       "  </tbody>\n",
       "</table>\n",
       "</div>"
      ],
      "text/plain": [
       "     away away_score     home home_score\n",
       "0   Spain          2  Uruguay          2\n",
       "1  Sweden          1   Brazil          7\n",
       "2   Spain          1   Brazil          6\n",
       "3  Sweden          2  Uruguay          3\n",
       "4   Spain          1   Sweden          3"
      ]
     },
     "execution_count": 1896,
     "metadata": {},
     "output_type": "execute_result"
    }
   ],
   "source": [
    "finalDF.head()"
   ]
  },
  {
   "cell_type": "markdown",
   "metadata": {},
   "source": [
    "# Lets calculate winner for each match\n"
   ]
  },
  {
   "cell_type": "code",
   "execution_count": 1897,
   "metadata": {},
   "outputs": [],
   "source": [
    "def getWinner(x):\n",
    "    if int(x['away_score']) - int(x['home_score']) > 0:\n",
    "        return x['away']\n",
    "    elif int(x['away_score']) - int(x['home_score']) == 0 :\n",
    "        return 'Draw'\n",
    "    else:\n",
    "        return x['home']\n",
    "        \n",
    "finalDF['winner'] = finalDF.apply(getWinner,axis=1)"
   ]
  },
  {
   "cell_type": "code",
   "execution_count": 1898,
   "metadata": {},
   "outputs": [
    {
     "data": {
      "text/html": [
       "<div>\n",
       "<style>\n",
       "    .dataframe thead tr:only-child th {\n",
       "        text-align: right;\n",
       "    }\n",
       "\n",
       "    .dataframe thead th {\n",
       "        text-align: left;\n",
       "    }\n",
       "\n",
       "    .dataframe tbody tr th {\n",
       "        vertical-align: top;\n",
       "    }\n",
       "</style>\n",
       "<table border=\"1\" class=\"dataframe\">\n",
       "  <thead>\n",
       "    <tr style=\"text-align: right;\">\n",
       "      <th></th>\n",
       "      <th>away</th>\n",
       "      <th>away_score</th>\n",
       "      <th>home</th>\n",
       "      <th>home_score</th>\n",
       "      <th>winner</th>\n",
       "    </tr>\n",
       "  </thead>\n",
       "  <tbody>\n",
       "    <tr>\n",
       "      <th>0</th>\n",
       "      <td>Spain</td>\n",
       "      <td>2</td>\n",
       "      <td>Uruguay</td>\n",
       "      <td>2</td>\n",
       "      <td>Draw</td>\n",
       "    </tr>\n",
       "    <tr>\n",
       "      <th>1</th>\n",
       "      <td>Sweden</td>\n",
       "      <td>1</td>\n",
       "      <td>Brazil</td>\n",
       "      <td>7</td>\n",
       "      <td>Brazil</td>\n",
       "    </tr>\n",
       "    <tr>\n",
       "      <th>2</th>\n",
       "      <td>Spain</td>\n",
       "      <td>1</td>\n",
       "      <td>Brazil</td>\n",
       "      <td>6</td>\n",
       "      <td>Brazil</td>\n",
       "    </tr>\n",
       "    <tr>\n",
       "      <th>3</th>\n",
       "      <td>Sweden</td>\n",
       "      <td>2</td>\n",
       "      <td>Uruguay</td>\n",
       "      <td>3</td>\n",
       "      <td>Uruguay</td>\n",
       "    </tr>\n",
       "    <tr>\n",
       "      <th>4</th>\n",
       "      <td>Spain</td>\n",
       "      <td>1</td>\n",
       "      <td>Sweden</td>\n",
       "      <td>3</td>\n",
       "      <td>Sweden</td>\n",
       "    </tr>\n",
       "  </tbody>\n",
       "</table>\n",
       "</div>"
      ],
      "text/plain": [
       "     away away_score     home home_score   winner\n",
       "0   Spain          2  Uruguay          2     Draw\n",
       "1  Sweden          1   Brazil          7   Brazil\n",
       "2   Spain          1   Brazil          6   Brazil\n",
       "3  Sweden          2  Uruguay          3  Uruguay\n",
       "4   Spain          1   Sweden          3   Sweden"
      ]
     },
     "execution_count": 1898,
     "metadata": {},
     "output_type": "execute_result"
    }
   ],
   "source": [
    "finalDF.head()"
   ]
  },
  {
   "cell_type": "markdown",
   "metadata": {
    "collapsed": true
   },
   "source": [
    "# Now we proceed with finding the probablity of Winner, Each Finalist, and Each Semi-Finalist\n",
    "# Step 1) In the 'final sixteen round' each team has a match scheduled with each other that we already know.\n",
    "# Step 2) In the 'final eight round' each winning team may play with each other except for the team that the current team defeated in the 'final sixteen round'\n",
    "# So the over all probablity for a team of getting into 'final four' which are semi-finalist will be calulated as \n",
    "# probablity of winning at step 1 AND overall probablity of winning at step 2 i.e P(Step1) * P(Step2)\n",
    "# overall probablity of winning at step 2 may be calculated as\n",
    "# sum of probablities of winning against each remaining team as these are all mutually exclusive event and only one of them will occur"
   ]
  },
  {
   "cell_type": "code",
   "execution_count": 1899,
   "metadata": {},
   "outputs": [],
   "source": [
    "# Calculates the win probablity of challenger against defender\n",
    "def getChallengerWinProbablity(df, challenger, defender):\n",
    "    numMatches = 0\n",
    "    challengerWins = 0\n",
    "    for i, row in df.iterrows():\n",
    "        if (row[0] == challenger and row[2] == defender) or (row[0] == defender and row[2] == challenger):\n",
    "            numMatches += 1\n",
    "            if row[4] ==challenger:\n",
    "                challengerWins +=1\n",
    "        else:\n",
    "            continue     \n",
    "    print('{0} time(s) {1} won with {2} out of {3} matches'.format(challengerWins,challenger,defender, numMatches))\n",
    "    try:\n",
    "        probability = float(challengerWins/numMatches)\n",
    "    except ZeroDivisionError:\n",
    "        probability = 0\n",
    "    return probability\n",
    "\n",
    "\n",
    "        "
   ]
  },
  {
   "cell_type": "markdown",
   "metadata": {
    "collapsed": true
   },
   "source": [
    "# Final Sixteen Schedule\n",
    "# France vs Argentina\n",
    "# Uruguay vs Portugal\n",
    "# Spain vs Russia\n",
    "# Croatia vs Denmark\n",
    "# Brazil vs Mexico\n",
    "# Belgium vs Japan\n",
    "# Sweden vs Switzerland\n",
    "# Columbia vs England"
   ]
  },
  {
   "cell_type": "code",
   "execution_count": 1900,
   "metadata": {
    "collapsed": true
   },
   "outputs": [],
   "source": [
    "probablityToReachFinalEight = {}\n",
    "matches = [('France','Argentina'), ('Uruguay','Portugal'), ('Spain','Russia'),\n",
    "            ('Croatia','Denmark'), ('Brazil','Mexico'), ('Belgium','Japan'),\n",
    "            ('Sweden','Switzerland'), ('Columbia','England')]"
   ]
  },
  {
   "cell_type": "code",
   "execution_count": 1901,
   "metadata": {},
   "outputs": [
    {
     "name": "stdout",
     "output_type": "stream",
     "text": [
      "0 time(s) France won with Argentina out of 1 matches\n",
      "1 time(s) Argentina won with France out of 1 matches\n",
      "0 time(s) Uruguay won with Portugal out of 0 matches\n",
      "0 time(s) Portugal won with Uruguay out of 0 matches\n",
      "0 time(s) Spain won with Russia out of 0 matches\n",
      "0 time(s) Russia won with Spain out of 0 matches\n",
      "0 time(s) Croatia won with Denmark out of 0 matches\n",
      "0 time(s) Denmark won with Croatia out of 0 matches\n",
      "3 time(s) Brazil won with Mexico out of 4 matches\n",
      "0 time(s) Mexico won with Brazil out of 4 matches\n",
      "0 time(s) Belgium won with Japan out of 1 matches\n",
      "0 time(s) Japan won with Belgium out of 1 matches\n",
      "0 time(s) Sweden won with Switzerland out of 0 matches\n",
      "0 time(s) Switzerland won with Sweden out of 0 matches\n",
      "0 time(s) Columbia won with England out of 0 matches\n",
      "0 time(s) England won with Columbia out of 0 matches\n"
     ]
    }
   ],
   "source": [
    "for i in matches:\n",
    "    challenger, defender = i\n",
    "    p = getChallengerWinProbablity(finalDF, challenger=challenger,defender=defender)\n",
    "    probablityToReachFinalEight[challenger] = p\n",
    "    p = getChallengerWinProbablity(finalDF, challenger=defender,defender=challenger) \n",
    "    probablityToReachFinalEight[defender] = 1-p \n",
    "    "
   ]
  },
  {
   "cell_type": "code",
   "execution_count": null,
   "metadata": {},
   "outputs": [],
   "source": []
  },
  {
   "cell_type": "code",
   "execution_count": 1902,
   "metadata": {},
   "outputs": [
    {
     "data": {
      "text/plain": [
       "{'Argentina': 0.0,\n",
       " 'Belgium': 0.0,\n",
       " 'Brazil': 0.75,\n",
       " 'Columbia': 0,\n",
       " 'Croatia': 0,\n",
       " 'Denmark': 1,\n",
       " 'England': 1,\n",
       " 'France': 0.0,\n",
       " 'Japan': 1.0,\n",
       " 'Mexico': 1.0,\n",
       " 'Portugal': 1,\n",
       " 'Russia': 1,\n",
       " 'Spain': 0,\n",
       " 'Sweden': 0,\n",
       " 'Switzerland': 1,\n",
       " 'Uruguay': 0}"
      ]
     },
     "execution_count": 1902,
     "metadata": {},
     "output_type": "execute_result"
    }
   ],
   "source": [
    "probablityToReachFinalEight"
   ]
  },
  {
   "cell_type": "code",
   "execution_count": 1903,
   "metadata": {},
   "outputs": [],
   "source": [
    "probableMatchesAtFinalEight = {}"
   ]
  },
  {
   "cell_type": "code",
   "execution_count": 1904,
   "metadata": {},
   "outputs": [],
   "source": [
    "for i in matches:\n",
    "    challenger, defender = i\n",
    "    probableMatchesAtFinalEight[challenger] = set(finalTeams) - {challenger, defender}\n",
    "    probableMatchesAtFinalEight[defender] = set(finalTeams) - {challenger, defender}\n",
    "    \n",
    "    \n",
    "    "
   ]
  },
  {
   "cell_type": "code",
   "execution_count": 1905,
   "metadata": {},
   "outputs": [
    {
     "data": {
      "text/plain": [
       "{'Argentina': {'Belgium',\n",
       "  'Brazil',\n",
       "  'Colombia',\n",
       "  'Croatia',\n",
       "  'Denmark',\n",
       "  'England',\n",
       "  'Japan',\n",
       "  'Mexico',\n",
       "  'Portugal',\n",
       "  'Russia',\n",
       "  'Spain',\n",
       "  'Sweden',\n",
       "  'Switzerland',\n",
       "  'Uruguay'},\n",
       " 'Belgium': {'Argentina',\n",
       "  'Brazil',\n",
       "  'Colombia',\n",
       "  'Croatia',\n",
       "  'Denmark',\n",
       "  'England',\n",
       "  'France',\n",
       "  'Mexico',\n",
       "  'Portugal',\n",
       "  'Russia',\n",
       "  'Spain',\n",
       "  'Sweden',\n",
       "  'Switzerland',\n",
       "  'Uruguay'},\n",
       " 'Brazil': {'Argentina',\n",
       "  'Belgium',\n",
       "  'Colombia',\n",
       "  'Croatia',\n",
       "  'Denmark',\n",
       "  'England',\n",
       "  'France',\n",
       "  'Japan',\n",
       "  'Portugal',\n",
       "  'Russia',\n",
       "  'Spain',\n",
       "  'Sweden',\n",
       "  'Switzerland',\n",
       "  'Uruguay'},\n",
       " 'Columbia': {'Argentina',\n",
       "  'Belgium',\n",
       "  'Brazil',\n",
       "  'Colombia',\n",
       "  'Croatia',\n",
       "  'Denmark',\n",
       "  'France',\n",
       "  'Japan',\n",
       "  'Mexico',\n",
       "  'Portugal',\n",
       "  'Russia',\n",
       "  'Spain',\n",
       "  'Sweden',\n",
       "  'Switzerland',\n",
       "  'Uruguay'},\n",
       " 'Croatia': {'Argentina',\n",
       "  'Belgium',\n",
       "  'Brazil',\n",
       "  'Colombia',\n",
       "  'England',\n",
       "  'France',\n",
       "  'Japan',\n",
       "  'Mexico',\n",
       "  'Portugal',\n",
       "  'Russia',\n",
       "  'Spain',\n",
       "  'Sweden',\n",
       "  'Switzerland',\n",
       "  'Uruguay'},\n",
       " 'Denmark': {'Argentina',\n",
       "  'Belgium',\n",
       "  'Brazil',\n",
       "  'Colombia',\n",
       "  'England',\n",
       "  'France',\n",
       "  'Japan',\n",
       "  'Mexico',\n",
       "  'Portugal',\n",
       "  'Russia',\n",
       "  'Spain',\n",
       "  'Sweden',\n",
       "  'Switzerland',\n",
       "  'Uruguay'},\n",
       " 'England': {'Argentina',\n",
       "  'Belgium',\n",
       "  'Brazil',\n",
       "  'Colombia',\n",
       "  'Croatia',\n",
       "  'Denmark',\n",
       "  'France',\n",
       "  'Japan',\n",
       "  'Mexico',\n",
       "  'Portugal',\n",
       "  'Russia',\n",
       "  'Spain',\n",
       "  'Sweden',\n",
       "  'Switzerland',\n",
       "  'Uruguay'},\n",
       " 'France': {'Belgium',\n",
       "  'Brazil',\n",
       "  'Colombia',\n",
       "  'Croatia',\n",
       "  'Denmark',\n",
       "  'England',\n",
       "  'Japan',\n",
       "  'Mexico',\n",
       "  'Portugal',\n",
       "  'Russia',\n",
       "  'Spain',\n",
       "  'Sweden',\n",
       "  'Switzerland',\n",
       "  'Uruguay'},\n",
       " 'Japan': {'Argentina',\n",
       "  'Brazil',\n",
       "  'Colombia',\n",
       "  'Croatia',\n",
       "  'Denmark',\n",
       "  'England',\n",
       "  'France',\n",
       "  'Mexico',\n",
       "  'Portugal',\n",
       "  'Russia',\n",
       "  'Spain',\n",
       "  'Sweden',\n",
       "  'Switzerland',\n",
       "  'Uruguay'},\n",
       " 'Mexico': {'Argentina',\n",
       "  'Belgium',\n",
       "  'Colombia',\n",
       "  'Croatia',\n",
       "  'Denmark',\n",
       "  'England',\n",
       "  'France',\n",
       "  'Japan',\n",
       "  'Portugal',\n",
       "  'Russia',\n",
       "  'Spain',\n",
       "  'Sweden',\n",
       "  'Switzerland',\n",
       "  'Uruguay'},\n",
       " 'Portugal': {'Argentina',\n",
       "  'Belgium',\n",
       "  'Brazil',\n",
       "  'Colombia',\n",
       "  'Croatia',\n",
       "  'Denmark',\n",
       "  'England',\n",
       "  'France',\n",
       "  'Japan',\n",
       "  'Mexico',\n",
       "  'Russia',\n",
       "  'Spain',\n",
       "  'Sweden',\n",
       "  'Switzerland'},\n",
       " 'Russia': {'Argentina',\n",
       "  'Belgium',\n",
       "  'Brazil',\n",
       "  'Colombia',\n",
       "  'Croatia',\n",
       "  'Denmark',\n",
       "  'England',\n",
       "  'France',\n",
       "  'Japan',\n",
       "  'Mexico',\n",
       "  'Portugal',\n",
       "  'Sweden',\n",
       "  'Switzerland',\n",
       "  'Uruguay'},\n",
       " 'Spain': {'Argentina',\n",
       "  'Belgium',\n",
       "  'Brazil',\n",
       "  'Colombia',\n",
       "  'Croatia',\n",
       "  'Denmark',\n",
       "  'England',\n",
       "  'France',\n",
       "  'Japan',\n",
       "  'Mexico',\n",
       "  'Portugal',\n",
       "  'Sweden',\n",
       "  'Switzerland',\n",
       "  'Uruguay'},\n",
       " 'Sweden': {'Argentina',\n",
       "  'Belgium',\n",
       "  'Brazil',\n",
       "  'Colombia',\n",
       "  'Croatia',\n",
       "  'Denmark',\n",
       "  'England',\n",
       "  'France',\n",
       "  'Japan',\n",
       "  'Mexico',\n",
       "  'Portugal',\n",
       "  'Russia',\n",
       "  'Spain',\n",
       "  'Uruguay'},\n",
       " 'Switzerland': {'Argentina',\n",
       "  'Belgium',\n",
       "  'Brazil',\n",
       "  'Colombia',\n",
       "  'Croatia',\n",
       "  'Denmark',\n",
       "  'England',\n",
       "  'France',\n",
       "  'Japan',\n",
       "  'Mexico',\n",
       "  'Portugal',\n",
       "  'Russia',\n",
       "  'Spain',\n",
       "  'Uruguay'},\n",
       " 'Uruguay': {'Argentina',\n",
       "  'Belgium',\n",
       "  'Brazil',\n",
       "  'Colombia',\n",
       "  'Croatia',\n",
       "  'Denmark',\n",
       "  'England',\n",
       "  'France',\n",
       "  'Japan',\n",
       "  'Mexico',\n",
       "  'Russia',\n",
       "  'Spain',\n",
       "  'Sweden',\n",
       "  'Switzerland'}}"
      ]
     },
     "execution_count": 1905,
     "metadata": {},
     "output_type": "execute_result"
    }
   ],
   "source": [
    "probableMatchesAtFinalEight"
   ]
  },
  {
   "cell_type": "code",
   "execution_count": 1906,
   "metadata": {},
   "outputs": [
    {
     "name": "stdout",
     "output_type": "stream",
     "text": [
      "France vs Spain\n",
      "1 time(s) France won with Spain out of 1 matches\n",
      "France vs Uruguay\n",
      "0 time(s) France won with Uruguay out of 3 matches\n",
      "France vs Sweden\n",
      "0 time(s) France won with Sweden out of 0 matches\n",
      "France vs Colombia\n",
      "0 time(s) France won with Colombia out of 0 matches\n",
      "France vs Belgium\n",
      "0 time(s) France won with Belgium out of 1 matches\n",
      "France vs Brazil\n",
      "2 time(s) France won with Brazil out of 4 matches\n",
      "France vs Denmark\n",
      "1 time(s) France won with Denmark out of 2 matches\n",
      "France vs Russia\n",
      "0 time(s) France won with Russia out of 0 matches\n",
      "France vs Japan\n",
      "0 time(s) France won with Japan out of 0 matches\n",
      "France vs England\n",
      "0 time(s) France won with England out of 2 matches\n",
      "France vs Switzerland\n",
      "1 time(s) France won with Switzerland out of 2 matches\n",
      "France vs Portugal\n",
      "1 time(s) France won with Portugal out of 1 matches\n",
      "France vs Croatia\n",
      "1 time(s) France won with Croatia out of 1 matches\n",
      "France vs Mexico\n",
      "1 time(s) France won with Mexico out of 3 matches\n",
      "Argentina vs Spain\n",
      "1 time(s) Argentina won with Spain out of 1 matches\n",
      "Argentina vs Uruguay\n",
      "1 time(s) Argentina won with Uruguay out of 1 matches\n",
      "Argentina vs Sweden\n",
      "0 time(s) Argentina won with Sweden out of 1 matches\n",
      "Argentina vs Colombia\n",
      "0 time(s) Argentina won with Colombia out of 0 matches\n",
      "Argentina vs Belgium\n",
      "1 time(s) Argentina won with Belgium out of 2 matches\n",
      "Argentina vs Brazil\n",
      "1 time(s) Argentina won with Brazil out of 4 matches\n",
      "Argentina vs Denmark\n",
      "0 time(s) Argentina won with Denmark out of 0 matches\n",
      "Argentina vs Russia\n",
      "0 time(s) Argentina won with Russia out of 0 matches\n",
      "Argentina vs Japan\n",
      "1 time(s) Argentina won with Japan out of 1 matches\n",
      "Argentina vs England\n",
      "1 time(s) Argentina won with England out of 5 matches\n",
      "Argentina vs Switzerland\n",
      "1 time(s) Argentina won with Switzerland out of 1 matches\n",
      "Argentina vs Portugal\n",
      "0 time(s) Argentina won with Portugal out of 0 matches\n",
      "Argentina vs Croatia\n",
      "1 time(s) Argentina won with Croatia out of 1 matches\n",
      "Argentina vs Mexico\n",
      "0 time(s) Argentina won with Mexico out of 1 matches\n",
      "Uruguay vs Spain\n",
      "0 time(s) Uruguay won with Spain out of 2 matches\n",
      "Uruguay vs Sweden\n",
      "1 time(s) Uruguay won with Sweden out of 3 matches\n",
      "Uruguay vs Colombia\n",
      "1 time(s) Uruguay won with Colombia out of 1 matches\n",
      "Uruguay vs France\n",
      "1 time(s) Uruguay won with France out of 3 matches\n",
      "Uruguay vs Belgium\n",
      "0 time(s) Uruguay won with Belgium out of 1 matches\n",
      "Uruguay vs Brazil\n",
      "1 time(s) Uruguay won with Brazil out of 2 matches\n",
      "Uruguay vs Denmark\n",
      "0 time(s) Uruguay won with Denmark out of 2 matches\n",
      "Uruguay vs Russia\n",
      "0 time(s) Uruguay won with Russia out of 0 matches\n",
      "Uruguay vs Argentina\n",
      "0 time(s) Uruguay won with Argentina out of 1 matches\n",
      "Uruguay vs Japan\n",
      "0 time(s) Uruguay won with Japan out of 0 matches\n",
      "Uruguay vs England\n",
      "2 time(s) Uruguay won with England out of 3 matches\n",
      "Uruguay vs Switzerland\n",
      "0 time(s) Uruguay won with Switzerland out of 0 matches\n",
      "Uruguay vs Croatia\n",
      "0 time(s) Uruguay won with Croatia out of 0 matches\n",
      "Uruguay vs Mexico\n",
      "1 time(s) Uruguay won with Mexico out of 2 matches\n",
      "Portugal vs Spain\n",
      "0 time(s) Portugal won with Spain out of 0 matches\n",
      "Portugal vs Sweden\n",
      "0 time(s) Portugal won with Sweden out of 0 matches\n",
      "Portugal vs Colombia\n",
      "0 time(s) Portugal won with Colombia out of 0 matches\n",
      "Portugal vs France\n",
      "0 time(s) Portugal won with France out of 1 matches\n",
      "Portugal vs Belgium\n",
      "0 time(s) Portugal won with Belgium out of 0 matches\n",
      "Portugal vs Brazil\n",
      "1 time(s) Portugal won with Brazil out of 2 matches\n",
      "Portugal vs Denmark\n",
      "0 time(s) Portugal won with Denmark out of 0 matches\n",
      "Portugal vs Russia\n",
      "0 time(s) Portugal won with Russia out of 0 matches\n",
      "Portugal vs Argentina\n",
      "0 time(s) Portugal won with Argentina out of 0 matches\n",
      "Portugal vs Japan\n",
      "0 time(s) Portugal won with Japan out of 0 matches\n",
      "Portugal vs England\n",
      "1 time(s) Portugal won with England out of 3 matches\n",
      "Portugal vs Switzerland\n",
      "0 time(s) Portugal won with Switzerland out of 0 matches\n",
      "Portugal vs Croatia\n",
      "0 time(s) Portugal won with Croatia out of 0 matches\n",
      "Portugal vs Mexico\n",
      "1 time(s) Portugal won with Mexico out of 1 matches\n",
      "Spain vs Uruguay\n",
      "0 time(s) Spain won with Uruguay out of 2 matches\n",
      "Spain vs Sweden\n",
      "1 time(s) Spain won with Sweden out of 2 matches\n",
      "Spain vs Colombia\n",
      "0 time(s) Spain won with Colombia out of 0 matches\n",
      "Spain vs France\n",
      "0 time(s) Spain won with France out of 1 matches\n",
      "Spain vs Belgium\n",
      "1 time(s) Spain won with Belgium out of 2 matches\n",
      "Spain vs Brazil\n",
      "0 time(s) Spain won with Brazil out of 4 matches\n",
      "Spain vs Denmark\n",
      "1 time(s) Spain won with Denmark out of 1 matches\n",
      "Spain vs Argentina\n",
      "0 time(s) Spain won with Argentina out of 1 matches\n",
      "Spain vs Japan\n",
      "0 time(s) Spain won with Japan out of 0 matches\n",
      "Spain vs England\n",
      "1 time(s) Spain won with England out of 2 matches\n",
      "Spain vs Switzerland\n",
      "2 time(s) Spain won with Switzerland out of 3 matches\n",
      "Spain vs Portugal\n",
      "0 time(s) Spain won with Portugal out of 0 matches\n",
      "Spain vs Croatia\n",
      "0 time(s) Spain won with Croatia out of 0 matches\n",
      "Spain vs Mexico\n",
      "1 time(s) Spain won with Mexico out of 1 matches\n",
      "Russia vs Uruguay\n",
      "0 time(s) Russia won with Uruguay out of 0 matches\n",
      "Russia vs Sweden\n",
      "0 time(s) Russia won with Sweden out of 1 matches\n",
      "Russia vs Colombia\n",
      "0 time(s) Russia won with Colombia out of 0 matches\n",
      "Russia vs France\n",
      "0 time(s) Russia won with France out of 0 matches\n",
      "Russia vs Belgium\n",
      "0 time(s) Russia won with Belgium out of 2 matches\n",
      "Russia vs Brazil\n",
      "0 time(s) Russia won with Brazil out of 1 matches\n",
      "Russia vs Denmark\n",
      "0 time(s) Russia won with Denmark out of 0 matches\n",
      "Russia vs Argentina\n",
      "0 time(s) Russia won with Argentina out of 0 matches\n",
      "Russia vs Japan\n",
      "0 time(s) Russia won with Japan out of 1 matches\n",
      "Russia vs England\n",
      "0 time(s) Russia won with England out of 0 matches\n",
      "Russia vs Switzerland\n",
      "0 time(s) Russia won with Switzerland out of 0 matches\n",
      "Russia vs Portugal\n",
      "0 time(s) Russia won with Portugal out of 0 matches\n",
      "Russia vs Croatia\n",
      "0 time(s) Russia won with Croatia out of 0 matches\n",
      "Russia vs Mexico\n",
      "0 time(s) Russia won with Mexico out of 0 matches\n",
      "Croatia vs Spain\n",
      "0 time(s) Croatia won with Spain out of 0 matches\n",
      "Croatia vs Uruguay\n",
      "0 time(s) Croatia won with Uruguay out of 0 matches\n",
      "Croatia vs Sweden\n",
      "0 time(s) Croatia won with Sweden out of 0 matches\n",
      "Croatia vs Colombia\n",
      "0 time(s) Croatia won with Colombia out of 0 matches\n",
      "Croatia vs France\n",
      "0 time(s) Croatia won with France out of 1 matches\n",
      "Croatia vs Belgium\n",
      "0 time(s) Croatia won with Belgium out of 0 matches\n",
      "Croatia vs Brazil\n",
      "0 time(s) Croatia won with Brazil out of 2 matches\n",
      "Croatia vs Russia\n",
      "0 time(s) Croatia won with Russia out of 0 matches\n",
      "Croatia vs Argentina\n",
      "0 time(s) Croatia won with Argentina out of 1 matches\n",
      "Croatia vs Japan\n",
      "1 time(s) Croatia won with Japan out of 2 matches\n",
      "Croatia vs England\n",
      "0 time(s) Croatia won with England out of 0 matches\n",
      "Croatia vs Switzerland\n",
      "0 time(s) Croatia won with Switzerland out of 0 matches\n",
      "Croatia vs Portugal\n",
      "0 time(s) Croatia won with Portugal out of 0 matches\n",
      "Croatia vs Mexico\n",
      "0 time(s) Croatia won with Mexico out of 2 matches\n",
      "Denmark vs Spain\n",
      "0 time(s) Denmark won with Spain out of 1 matches\n",
      "Denmark vs Uruguay\n",
      "2 time(s) Denmark won with Uruguay out of 2 matches\n",
      "Denmark vs Sweden\n",
      "0 time(s) Denmark won with Sweden out of 0 matches\n",
      "Denmark vs Colombia\n",
      "0 time(s) Denmark won with Colombia out of 0 matches\n",
      "Denmark vs France\n",
      "1 time(s) Denmark won with France out of 2 matches\n",
      "Denmark vs Belgium\n",
      "0 time(s) Denmark won with Belgium out of 0 matches\n",
      "Denmark vs Brazil\n",
      "0 time(s) Denmark won with Brazil out of 1 matches\n",
      "Denmark vs Russia\n",
      "0 time(s) Denmark won with Russia out of 0 matches\n",
      "Denmark vs Argentina\n",
      "0 time(s) Denmark won with Argentina out of 0 matches\n",
      "Denmark vs Japan\n",
      "0 time(s) Denmark won with Japan out of 1 matches\n",
      "Denmark vs England\n",
      "0 time(s) Denmark won with England out of 1 matches\n",
      "Denmark vs Switzerland\n",
      "0 time(s) Denmark won with Switzerland out of 0 matches\n",
      "Denmark vs Portugal\n",
      "0 time(s) Denmark won with Portugal out of 0 matches\n",
      "Denmark vs Mexico\n",
      "0 time(s) Denmark won with Mexico out of 0 matches\n",
      "Brazil vs Spain\n",
      "3 time(s) Brazil won with Spain out of 4 matches\n",
      "Brazil vs Uruguay\n",
      "1 time(s) Brazil won with Uruguay out of 2 matches\n",
      "Brazil vs Sweden\n",
      "4 time(s) Brazil won with Sweden out of 6 matches\n",
      "Brazil vs Colombia\n",
      "0 time(s) Brazil won with Colombia out of 0 matches\n",
      "Brazil vs France\n",
      "1 time(s) Brazil won with France out of 4 matches\n",
      "Brazil vs Belgium\n",
      "1 time(s) Brazil won with Belgium out of 1 matches\n",
      "Brazil vs Denmark\n",
      "1 time(s) Brazil won with Denmark out of 1 matches\n",
      "Brazil vs Russia\n",
      "1 time(s) Brazil won with Russia out of 1 matches\n",
      "Brazil vs Argentina\n",
      "2 time(s) Brazil won with Argentina out of 4 matches\n",
      "Brazil vs Japan\n",
      "1 time(s) Brazil won with Japan out of 1 matches\n",
      "Brazil vs England\n",
      "3 time(s) Brazil won with England out of 4 matches\n"
     ]
    },
    {
     "name": "stdout",
     "output_type": "stream",
     "text": [
      "Brazil vs Switzerland\n",
      "0 time(s) Brazil won with Switzerland out of 1 matches\n",
      "Brazil vs Portugal\n",
      "0 time(s) Brazil won with Portugal out of 2 matches\n",
      "Brazil vs Croatia\n",
      "2 time(s) Brazil won with Croatia out of 2 matches\n",
      "Mexico vs Spain\n",
      "0 time(s) Mexico won with Spain out of 1 matches\n",
      "Mexico vs Uruguay\n",
      "0 time(s) Mexico won with Uruguay out of 2 matches\n",
      "Mexico vs Sweden\n",
      "0 time(s) Mexico won with Sweden out of 1 matches\n",
      "Mexico vs Colombia\n",
      "0 time(s) Mexico won with Colombia out of 0 matches\n",
      "Mexico vs France\n",
      "1 time(s) Mexico won with France out of 3 matches\n",
      "Mexico vs Belgium\n",
      "2 time(s) Mexico won with Belgium out of 3 matches\n",
      "Mexico vs Denmark\n",
      "0 time(s) Mexico won with Denmark out of 0 matches\n",
      "Mexico vs Russia\n",
      "0 time(s) Mexico won with Russia out of 0 matches\n",
      "Mexico vs Argentina\n",
      "0 time(s) Mexico won with Argentina out of 1 matches\n",
      "Mexico vs Japan\n",
      "0 time(s) Mexico won with Japan out of 0 matches\n",
      "Mexico vs England\n",
      "0 time(s) Mexico won with England out of 1 matches\n",
      "Mexico vs Switzerland\n",
      "0 time(s) Mexico won with Switzerland out of 1 matches\n",
      "Mexico vs Portugal\n",
      "0 time(s) Mexico won with Portugal out of 1 matches\n",
      "Mexico vs Croatia\n",
      "2 time(s) Mexico won with Croatia out of 2 matches\n",
      "Belgium vs Spain\n",
      "0 time(s) Belgium won with Spain out of 2 matches\n",
      "Belgium vs Uruguay\n",
      "1 time(s) Belgium won with Uruguay out of 1 matches\n",
      "Belgium vs Sweden\n",
      "0 time(s) Belgium won with Sweden out of 0 matches\n",
      "Belgium vs Colombia\n",
      "0 time(s) Belgium won with Colombia out of 0 matches\n",
      "Belgium vs France\n",
      "0 time(s) Belgium won with France out of 1 matches\n",
      "Belgium vs Brazil\n",
      "0 time(s) Belgium won with Brazil out of 1 matches\n",
      "Belgium vs Denmark\n",
      "0 time(s) Belgium won with Denmark out of 0 matches\n",
      "Belgium vs Russia\n",
      "2 time(s) Belgium won with Russia out of 2 matches\n",
      "Belgium vs Argentina\n",
      "1 time(s) Belgium won with Argentina out of 2 matches\n",
      "Belgium vs England\n",
      "0 time(s) Belgium won with England out of 2 matches\n",
      "Belgium vs Switzerland\n",
      "0 time(s) Belgium won with Switzerland out of 0 matches\n",
      "Belgium vs Portugal\n",
      "0 time(s) Belgium won with Portugal out of 0 matches\n",
      "Belgium vs Croatia\n",
      "0 time(s) Belgium won with Croatia out of 0 matches\n",
      "Belgium vs Mexico\n",
      "0 time(s) Belgium won with Mexico out of 3 matches\n",
      "Japan vs Spain\n",
      "0 time(s) Japan won with Spain out of 0 matches\n",
      "Japan vs Uruguay\n",
      "0 time(s) Japan won with Uruguay out of 0 matches\n",
      "Japan vs Sweden\n",
      "0 time(s) Japan won with Sweden out of 0 matches\n",
      "Japan vs Colombia\n",
      "0 time(s) Japan won with Colombia out of 1 matches\n",
      "Japan vs France\n",
      "0 time(s) Japan won with France out of 0 matches\n",
      "Japan vs Brazil\n",
      "0 time(s) Japan won with Brazil out of 1 matches\n",
      "Japan vs Denmark\n",
      "1 time(s) Japan won with Denmark out of 1 matches\n",
      "Japan vs Russia\n",
      "1 time(s) Japan won with Russia out of 1 matches\n",
      "Japan vs Argentina\n",
      "0 time(s) Japan won with Argentina out of 1 matches\n",
      "Japan vs England\n",
      "0 time(s) Japan won with England out of 0 matches\n",
      "Japan vs Switzerland\n",
      "0 time(s) Japan won with Switzerland out of 0 matches\n",
      "Japan vs Portugal\n",
      "0 time(s) Japan won with Portugal out of 0 matches\n",
      "Japan vs Croatia\n",
      "0 time(s) Japan won with Croatia out of 2 matches\n",
      "Japan vs Mexico\n",
      "0 time(s) Japan won with Mexico out of 0 matches\n",
      "Sweden vs Spain\n",
      "1 time(s) Sweden won with Spain out of 2 matches\n",
      "Sweden vs Uruguay\n",
      "2 time(s) Sweden won with Uruguay out of 3 matches\n",
      "Sweden vs Colombia\n",
      "0 time(s) Sweden won with Colombia out of 0 matches\n",
      "Sweden vs France\n",
      "0 time(s) Sweden won with France out of 0 matches\n",
      "Sweden vs Belgium\n",
      "0 time(s) Sweden won with Belgium out of 0 matches\n",
      "Sweden vs Brazil\n",
      "0 time(s) Sweden won with Brazil out of 6 matches\n",
      "Sweden vs Denmark\n",
      "0 time(s) Sweden won with Denmark out of 0 matches\n",
      "Sweden vs Russia\n",
      "1 time(s) Sweden won with Russia out of 1 matches\n",
      "Sweden vs Argentina\n",
      "0 time(s) Sweden won with Argentina out of 1 matches\n",
      "Sweden vs Japan\n",
      "0 time(s) Sweden won with Japan out of 0 matches\n",
      "Sweden vs England\n",
      "0 time(s) Sweden won with England out of 2 matches\n",
      "Sweden vs Portugal\n",
      "0 time(s) Sweden won with Portugal out of 0 matches\n",
      "Sweden vs Croatia\n",
      "0 time(s) Sweden won with Croatia out of 0 matches\n",
      "Sweden vs Mexico\n",
      "1 time(s) Sweden won with Mexico out of 1 matches\n",
      "Switzerland vs Spain\n",
      "1 time(s) Switzerland won with Spain out of 3 matches\n",
      "Switzerland vs Uruguay\n",
      "0 time(s) Switzerland won with Uruguay out of 0 matches\n",
      "Switzerland vs Colombia\n",
      "0 time(s) Switzerland won with Colombia out of 1 matches\n",
      "Switzerland vs France\n",
      "0 time(s) Switzerland won with France out of 2 matches\n",
      "Switzerland vs Belgium\n",
      "0 time(s) Switzerland won with Belgium out of 0 matches\n",
      "Switzerland vs Brazil\n",
      "0 time(s) Switzerland won with Brazil out of 1 matches\n",
      "Switzerland vs Denmark\n",
      "0 time(s) Switzerland won with Denmark out of 0 matches\n",
      "Switzerland vs Russia\n",
      "0 time(s) Switzerland won with Russia out of 0 matches\n",
      "Switzerland vs Argentina\n",
      "0 time(s) Switzerland won with Argentina out of 1 matches\n",
      "Switzerland vs Japan\n",
      "0 time(s) Switzerland won with Japan out of 0 matches\n",
      "Switzerland vs England\n",
      "0 time(s) Switzerland won with England out of 1 matches\n",
      "Switzerland vs Portugal\n",
      "0 time(s) Switzerland won with Portugal out of 0 matches\n",
      "Switzerland vs Croatia\n",
      "0 time(s) Switzerland won with Croatia out of 0 matches\n",
      "Switzerland vs Mexico\n",
      "1 time(s) Switzerland won with Mexico out of 1 matches\n",
      "Columbia vs Spain\n",
      "0 time(s) Columbia won with Spain out of 0 matches\n",
      "Columbia vs Uruguay\n",
      "0 time(s) Columbia won with Uruguay out of 0 matches\n",
      "Columbia vs Sweden\n",
      "0 time(s) Columbia won with Sweden out of 0 matches\n",
      "Columbia vs Colombia\n",
      "0 time(s) Columbia won with Colombia out of 0 matches\n",
      "Columbia vs France\n",
      "0 time(s) Columbia won with France out of 0 matches\n",
      "Columbia vs Belgium\n",
      "0 time(s) Columbia won with Belgium out of 0 matches\n",
      "Columbia vs Brazil\n",
      "0 time(s) Columbia won with Brazil out of 0 matches\n",
      "Columbia vs Denmark\n",
      "0 time(s) Columbia won with Denmark out of 0 matches\n",
      "Columbia vs Russia\n",
      "0 time(s) Columbia won with Russia out of 0 matches\n",
      "Columbia vs Argentina\n",
      "0 time(s) Columbia won with Argentina out of 0 matches\n",
      "Columbia vs Japan\n",
      "0 time(s) Columbia won with Japan out of 0 matches\n",
      "Columbia vs Switzerland\n",
      "0 time(s) Columbia won with Switzerland out of 0 matches\n",
      "Columbia vs Portugal\n",
      "0 time(s) Columbia won with Portugal out of 0 matches\n",
      "Columbia vs Croatia\n",
      "0 time(s) Columbia won with Croatia out of 0 matches\n",
      "Columbia vs Mexico\n",
      "0 time(s) Columbia won with Mexico out of 0 matches\n",
      "England vs Spain\n",
      "0 time(s) England won with Spain out of 2 matches\n",
      "England vs Uruguay\n",
      "0 time(s) England won with Uruguay out of 3 matches\n",
      "England vs Sweden\n",
      "0 time(s) England won with Sweden out of 2 matches\n",
      "England vs Colombia\n",
      "1 time(s) England won with Colombia out of 1 matches\n",
      "England vs France\n",
      "2 time(s) England won with France out of 2 matches\n",
      "England vs Belgium\n",
      "0 time(s) England won with Belgium out of 2 matches\n",
      "England vs Brazil\n",
      "0 time(s) England won with Brazil out of 4 matches\n",
      "England vs Denmark\n",
      "1 time(s) England won with Denmark out of 1 matches\n",
      "England vs Russia\n",
      "0 time(s) England won with Russia out of 0 matches\n",
      "England vs Argentina\n",
      "3 time(s) England won with Argentina out of 5 matches\n",
      "England vs Japan\n",
      "0 time(s) England won with Japan out of 0 matches\n",
      "England vs Switzerland\n",
      "1 time(s) England won with Switzerland out of 1 matches\n",
      "England vs Portugal\n",
      "1 time(s) England won with Portugal out of 3 matches\n",
      "England vs Croatia\n",
      "0 time(s) England won with Croatia out of 0 matches\n",
      "England vs Mexico\n",
      "1 time(s) England won with Mexico out of 1 matches\n"
     ]
    }
   ],
   "source": [
    "probablityToWinFinalEight = {}\n",
    "for key, value in probableMatchesAtFinalEight.items():\n",
    "    totalProbablity = 0\n",
    "    for j in value:\n",
    "        print(key + ' vs '+ j)\n",
    "        p = getChallengerWinProbablity(finalDF,challenger=key, defender=j)\n",
    "        totalProbablity += p\n",
    "    probablityToWinFinalEight[key] = totalProbablity    \n",
    "        \n",
    "       \n",
    "        \n",
    "        "
   ]
  },
  {
   "cell_type": "code",
   "execution_count": 1907,
   "metadata": {},
   "outputs": [
    {
     "data": {
      "text/plain": [
       "{'Argentina': 5.95,\n",
       " 'Belgium': 2.5,\n",
       " 'Brazil': 8.416666666666666,\n",
       " 'Columbia': 0,\n",
       " 'Croatia': 0.5,\n",
       " 'Denmark': 1.5,\n",
       " 'England': 5.933333333333333,\n",
       " 'France': 4.833333333333333,\n",
       " 'Japan': 2.0,\n",
       " 'Mexico': 2.0,\n",
       " 'Portugal': 1.8333333333333333,\n",
       " 'Russia': 0.0,\n",
       " 'Spain': 4.166666666666666,\n",
       " 'Sweden': 3.1666666666666665,\n",
       " 'Switzerland': 1.3333333333333333,\n",
       " 'Uruguay': 3.333333333333333}"
      ]
     },
     "execution_count": 1907,
     "metadata": {},
     "output_type": "execute_result"
    }
   ],
   "source": [
    "probablityToWinFinalEight"
   ]
  },
  {
   "cell_type": "code",
   "execution_count": 1908,
   "metadata": {
    "collapsed": true
   },
   "outputs": [],
   "source": [
    "finalProbablitiesAtfirstEight = {k: probablityToReachFinalEight[k]*probablityToWinFinalEight[k] for k in probablityToReachFinalEight}"
   ]
  },
  {
   "cell_type": "code",
   "execution_count": 1909,
   "metadata": {},
   "outputs": [
    {
     "data": {
      "text/plain": [
       "{'Argentina': 0.0,\n",
       " 'Belgium': 0.0,\n",
       " 'Brazil': 6.3125,\n",
       " 'Columbia': 0,\n",
       " 'Croatia': 0.0,\n",
       " 'Denmark': 1.5,\n",
       " 'England': 5.933333333333333,\n",
       " 'France': 0.0,\n",
       " 'Japan': 2.0,\n",
       " 'Mexico': 2.0,\n",
       " 'Portugal': 1.8333333333333333,\n",
       " 'Russia': 0.0,\n",
       " 'Spain': 0.0,\n",
       " 'Sweden': 0.0,\n",
       " 'Switzerland': 1.3333333333333333,\n",
       " 'Uruguay': 0.0}"
      ]
     },
     "execution_count": 1909,
     "metadata": {},
     "output_type": "execute_result"
    }
   ],
   "source": [
    "finalProbablitiesAtfirstEight"
   ]
  },
  {
   "cell_type": "code",
   "execution_count": 1910,
   "metadata": {},
   "outputs": [
    {
     "data": {
      "text/plain": [
       "[('Brazil', 6.3125),\n",
       " ('England', 5.933333333333333),\n",
       " ('Mexico', 2.0),\n",
       " ('Japan', 2.0),\n",
       " ('Portugal', 1.8333333333333333),\n",
       " ('Denmark', 1.5),\n",
       " ('Switzerland', 1.3333333333333333),\n",
       " ('France', 0.0),\n",
       " ('Argentina', 0.0),\n",
       " ('Uruguay', 0.0),\n",
       " ('Spain', 0.0),\n",
       " ('Russia', 0.0),\n",
       " ('Croatia', 0.0),\n",
       " ('Belgium', 0.0),\n",
       " ('Sweden', 0.0),\n",
       " ('Columbia', 0)]"
      ]
     },
     "execution_count": 1910,
     "metadata": {},
     "output_type": "execute_result"
    }
   ],
   "source": [
    "from operator import itemgetter\n",
    "sorted(finalProbablitiesAtfirstEight.items(), key=itemgetter(1), reverse=True)\n"
   ]
  },
  {
   "cell_type": "markdown",
   "metadata": {},
   "source": [
    "# So from above calculations our Top Four Teams i.e Semi Finalists with winning probablities are \n",
    "\n",
    "# 'Brazil', 6.3125,\n",
    "# 'Argentina', 5.95,\n",
    "# 'England', 5.933333333333333,\n",
    "# 'Japan', 2.0\n",
    "    \n"
   ]
  },
  {
   "cell_type": "markdown",
   "metadata": {},
   "source": [
    "# Now we proceed with finding the probablity of Each Finalist\n",
    "# Step 1) From the 'final four round' each team may play with each other\n",
    "# Step 2) We calculate win probablity of each semi finalists as sum of probablities of winning against each\n",
    "#         other as these are all mutually exclusive event and only one of them will occur\n",
    "# Step 3) So the over all probablity for a team of getting into 'finals' can be calulated as \n",
    "#         probablity of winning at 'final Eight' AND overall probablity of winning at step 2 i.e P('final Eight') * P(Step2)\n",
    " "
   ]
  },
  {
   "cell_type": "code",
   "execution_count": 1911,
   "metadata": {},
   "outputs": [],
   "source": [
    "probableMatchesAtSemifinal = {'England':{'Argentina','Japan', 'Brazil'},'Argentina':{'Japan','England' ,'Brazil'},\n",
    "                              'Japan':{'Argentina','England', 'Brazil'}, 'Brazil':{'Argentina','England', 'Japan'}}"
   ]
  },
  {
   "cell_type": "code",
   "execution_count": null,
   "metadata": {
    "collapsed": true
   },
   "outputs": [],
   "source": []
  },
  {
   "cell_type": "code",
   "execution_count": 1912,
   "metadata": {},
   "outputs": [
    {
     "name": "stdout",
     "output_type": "stream",
     "text": [
      "England vs Argentina\n",
      "3 time(s) England won with Argentina out of 5 matches\n",
      "England vs Japan\n",
      "0 time(s) England won with Japan out of 0 matches\n",
      "England vs Brazil\n",
      "0 time(s) England won with Brazil out of 4 matches\n",
      "Argentina vs England\n",
      "1 time(s) Argentina won with England out of 5 matches\n",
      "Argentina vs Japan\n",
      "1 time(s) Argentina won with Japan out of 1 matches\n",
      "Argentina vs Brazil\n",
      "1 time(s) Argentina won with Brazil out of 4 matches\n",
      "Japan vs England\n",
      "0 time(s) Japan won with England out of 0 matches\n",
      "Japan vs Argentina\n",
      "0 time(s) Japan won with Argentina out of 1 matches\n",
      "Japan vs Brazil\n",
      "0 time(s) Japan won with Brazil out of 1 matches\n",
      "Brazil vs England\n",
      "3 time(s) Brazil won with England out of 4 matches\n",
      "Brazil vs Argentina\n",
      "2 time(s) Brazil won with Argentina out of 4 matches\n",
      "Brazil vs Japan\n",
      "1 time(s) Brazil won with Japan out of 1 matches\n"
     ]
    }
   ],
   "source": [
    "probablityAtFinalFour = {}\n",
    "for key, value in probableMatchesAtSemifinal.items():\n",
    "    totalProbablity = 0\n",
    "    for j in value:\n",
    "        print(key + ' vs '+ j)\n",
    "        p = getChallengerWinProbablity(finalDF,challenger=key, defender=j)\n",
    "        totalProbablity += p\n",
    "    probablityAtFinalFour[key] = totalProbablity"
   ]
  },
  {
   "cell_type": "code",
   "execution_count": 1913,
   "metadata": {},
   "outputs": [
    {
     "data": {
      "text/plain": [
       "{'Argentina': 1.45, 'Brazil': 2.25, 'England': 0.6, 'Japan': 0.0}"
      ]
     },
     "execution_count": 1913,
     "metadata": {},
     "output_type": "execute_result"
    }
   ],
   "source": [
    "probablityAtFinalFour"
   ]
  },
  {
   "cell_type": "code",
   "execution_count": 1914,
   "metadata": {},
   "outputs": [],
   "source": [
    "probablityToReachFinalFour = {'Brazil': 6.3125,\n",
    " 'Argentina': 5.95,\n",
    " 'England': 5.933333333333333,\n",
    " 'Japan': 2.0}"
   ]
  },
  {
   "cell_type": "code",
   "execution_count": 1915,
   "metadata": {},
   "outputs": [],
   "source": [
    "finalProbablitiesforfinals = {k: probablityToReachFinalFour[k]*probablityAtFinalFour[k] for k in probablityAtFinalFour}"
   ]
  },
  {
   "cell_type": "code",
   "execution_count": 1916,
   "metadata": {},
   "outputs": [
    {
     "data": {
      "text/plain": [
       "{'Argentina': 8.6275,\n",
       " 'Brazil': 14.203125,\n",
       " 'England': 3.5599999999999996,\n",
       " 'Japan': 0.0}"
      ]
     },
     "execution_count": 1916,
     "metadata": {},
     "output_type": "execute_result"
    }
   ],
   "source": [
    "finalProbablitiesforfinals"
   ]
  },
  {
   "cell_type": "markdown",
   "metadata": {},
   "source": [
    "# So our finalists are\n",
    "# Brazil and Argentina"
   ]
  },
  {
   "cell_type": "code",
   "execution_count": 1917,
   "metadata": {},
   "outputs": [
    {
     "name": "stdout",
     "output_type": "stream",
     "text": [
      "2 time(s) Brazil won with Argentina out of 4 matches\n"
     ]
    }
   ],
   "source": [
    "probablityOfEnglandWinning = getChallengerWinProbablity(finalDF,'Brazil','Argentina')"
   ]
  },
  {
   "cell_type": "markdown",
   "metadata": {},
   "source": [
    "# From above we can conclude that 0.5 is the probablity of each team winning the final\n",
    "# From the probablity table of Semi Finals we can multiply to get final probablity as reaching in semifinal and winning against each other, two are not mutually exclusive"
   ]
  },
  {
   "cell_type": "markdown",
   "metadata": {},
   "source": [
    "# As brazil has greater probablity to reach semi finals than Argentina "
   ]
  },
  {
   "cell_type": "markdown",
   "metadata": {},
   "source": [
    "# So Our Final Predictions are as Follows\n",
    "# Winner is Brazil\n",
    "# Runner up is Argentina\n",
    "# Semi-Finalists are Argentina, England, Japan, Brazil"
   ]
  },
  {
   "cell_type": "code",
   "execution_count": null,
   "metadata": {},
   "outputs": [],
   "source": []
  },
  {
   "cell_type": "code",
   "execution_count": null,
   "metadata": {
    "collapsed": true
   },
   "outputs": [],
   "source": []
  }
 ],
 "metadata": {
  "kernelspec": {
   "display_name": "Python 3",
   "language": "python",
   "name": "python3"
  },
  "language_info": {
   "codemirror_mode": {
    "name": "ipython",
    "version": 3
   },
   "file_extension": ".py",
   "mimetype": "text/x-python",
   "name": "python",
   "nbconvert_exporter": "python",
   "pygments_lexer": "ipython3",
   "version": "3.6.1"
  }
 },
 "nbformat": 4,
 "nbformat_minor": 2
}
